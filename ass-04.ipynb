{
 "cells": [
  {
   "cell_type": "code",
   "execution_count": 2,
   "id": "1578c89d",
   "metadata": {},
   "outputs": [
    {
     "ename": "TypeError",
     "evalue": "Point() takes no arguments",
     "output_type": "error",
     "traceback": [
      "\u001b[1;31m---------------------------------------------------------------------------\u001b[0m",
      "\u001b[1;31mTypeError\u001b[0m                                 Traceback (most recent call last)",
      "Input \u001b[1;32mIn [2]\u001b[0m, in \u001b[0;36m<cell line: 9>\u001b[1;34m()\u001b[0m\n\u001b[0;32m      6\u001b[0m     \u001b[38;5;28;01mdef\u001b[39;00m \u001b[38;5;21msqSum\u001b[39m(\u001b[38;5;28mself\u001b[39m):\n\u001b[0;32m      7\u001b[0m         \u001b[38;5;28;01mreturn\u001b[39;00m ((\u001b[38;5;28mself\u001b[39m\u001b[38;5;241m.\u001b[39mx\u001b[38;5;241m*\u001b[39m\u001b[38;5;241m*\u001b[39m\u001b[38;5;241m2\u001b[39m) \u001b[38;5;241m+\u001b[39m (\u001b[38;5;28mself\u001b[39m\u001b[38;5;241m.\u001b[39my\u001b[38;5;241m*\u001b[39m\u001b[38;5;241m*\u001b[39m\u001b[38;5;241m2\u001b[39m) \u001b[38;5;241m+\u001b[39m (\u001b[38;5;28mself\u001b[39m\u001b[38;5;241m.\u001b[39mz\u001b[38;5;241m*\u001b[39m\u001b[38;5;241m*\u001b[39m\u001b[38;5;241m2\u001b[39m))\n\u001b[1;32m----> 9\u001b[0m Num \u001b[38;5;241m=\u001b[39m \u001b[43mPoint\u001b[49m\u001b[43m(\u001b[49m\u001b[38;5;241;43m1\u001b[39;49m\u001b[43m,\u001b[49m\u001b[38;5;241;43m3\u001b[39;49m\u001b[43m,\u001b[49m\u001b[38;5;241;43m5\u001b[39;49m\u001b[43m)\u001b[49m\n\u001b[0;32m     10\u001b[0m Num\u001b[38;5;241m.\u001b[39msqSum()\n",
      "\u001b[1;31mTypeError\u001b[0m: Point() takes no arguments"
     ]
    }
   ],
   "source": [
    "#question-01\n",
    "class Point:\n",
    "    def _init_(self,x,y,z):\n",
    "        self.x=x\n",
    "        self.y=y\n",
    "        self.z=z\n",
    "    def sqSum(self):\n",
    "        return ((self.x**2) + (self.y**2) + (self.z**2))\n",
    "    \n",
    "Num = Point(1,3,5)\n",
    "Num.sqSum()"
   ]
  },
  {
   "cell_type": "code",
   "execution_count": 3,
   "id": "4e0844b1",
   "metadata": {},
   "outputs": [
    {
     "ename": "TypeError",
     "evalue": "Calculator() takes no arguments",
     "output_type": "error",
     "traceback": [
      "\u001b[1;31m---------------------------------------------------------------------------\u001b[0m",
      "\u001b[1;31mTypeError\u001b[0m                                 Traceback (most recent call last)",
      "Input \u001b[1;32mIn [3]\u001b[0m, in \u001b[0;36m<cell line: 21>\u001b[1;34m()\u001b[0m\n\u001b[0;32m     17\u001b[0m     \u001b[38;5;28;01mdef\u001b[39;00m \u001b[38;5;21mdivide\u001b[39m(\u001b[38;5;28mself\u001b[39m):\n\u001b[0;32m     18\u001b[0m         \u001b[38;5;28;01mreturn\u001b[39;00m \u001b[38;5;28mself\u001b[39m\u001b[38;5;241m.\u001b[39mnum2 \u001b[38;5;241m/\u001b[39m \u001b[38;5;28mself\u001b[39m\u001b[38;5;241m.\u001b[39mnum1\n\u001b[1;32m---> 21\u001b[0m obj \u001b[38;5;241m=\u001b[39m \u001b[43mCalculator\u001b[49m\u001b[43m(\u001b[49m\u001b[38;5;241;43m10\u001b[39;49m\u001b[43m,\u001b[49m\u001b[38;5;241;43m94\u001b[39;49m\u001b[43m)\u001b[49m\n\u001b[0;32m     23\u001b[0m \u001b[38;5;28mprint\u001b[39m(obj\u001b[38;5;241m.\u001b[39madd())\n\u001b[0;32m     24\u001b[0m \u001b[38;5;28mprint\u001b[39m(obj\u001b[38;5;241m.\u001b[39msubtract())\n",
      "\u001b[1;31mTypeError\u001b[0m: Calculator() takes no arguments"
     ]
    }
   ],
   "source": [
    "#question-02\n",
    "class Calculator:\n",
    "    \n",
    "    def _init_(self,num1,num2):\n",
    "        self.num1=num1\n",
    "        self.num2=num2\n",
    "    \n",
    "    def add(self):\n",
    "        return self.num1 + self.num2\n",
    "    \n",
    "    def subtract(self):\n",
    "        return self.num2 - self.num1\n",
    "    \n",
    "    def multiply(self):\n",
    "        return self.num1 * self.num2\n",
    "    \n",
    "    def divide(self):\n",
    "        return self.num2 / self.num1\n",
    "    \n",
    "    \n",
    "obj = Calculator(10,94)\n",
    "\n",
    "print(obj.add())\n",
    "print(obj.subtract())\n",
    "print(obj.multiply())\n",
    "print(obj.divide())"
   ]
  },
  {
   "cell_type": "code",
   "execution_count": 4,
   "id": "3e8fa65c",
   "metadata": {},
   "outputs": [
    {
     "name": "stdout",
     "output_type": "stream",
     "text": [
      "Muskan\n",
      "29\n"
     ]
    }
   ],
   "source": [
    "class Student:\n",
    "    def setName(self,name):\n",
    "        self.__name=name\n",
    "    def getName(self):\n",
    "        return self.__name\n",
    "    def setRollNumber(self,rollno):\n",
    "        self.__rollno=rollno\n",
    "    def getRollNumber(self):\n",
    "        return self.__rollno\n",
    "s=Student()\n",
    "s.setName(\"Muskan\")\n",
    "print(s.getName())\n",
    "s.setRollNumber(29)\n",
    "print(s.getRollNumber())"
   ]
  },
  {
   "cell_type": "code",
   "execution_count": 5,
   "id": "b7b89226",
   "metadata": {},
   "outputs": [
    {
     "name": "stdout",
     "output_type": "stream",
     "text": [
      "Account Details :- \n"
     ]
    },
    {
     "ename": "TypeError",
     "evalue": "Account() takes no arguments",
     "output_type": "error",
     "traceback": [
      "\u001b[1;31m---------------------------------------------------------------------------\u001b[0m",
      "\u001b[1;31mTypeError\u001b[0m                                 Traceback (most recent call last)",
      "Input \u001b[1;32mIn [5]\u001b[0m, in \u001b[0;36m<cell line: 14>\u001b[1;34m()\u001b[0m\n\u001b[0;32m     11\u001b[0m         \u001b[38;5;28mself\u001b[39m\u001b[38;5;241m.\u001b[39mInterestRate\u001b[38;5;241m=\u001b[39mInterestRate\n\u001b[0;32m     13\u001b[0m \u001b[38;5;28mprint\u001b[39m(\u001b[38;5;124m\"\u001b[39m\u001b[38;5;124mAccount Details :- \u001b[39m\u001b[38;5;124m\"\u001b[39m)\n\u001b[1;32m---> 14\u001b[0m A\u001b[38;5;241m=\u001b[39m\u001b[43mAccount\u001b[49m\u001b[43m(\u001b[49m\u001b[38;5;124;43m\"\u001b[39;49m\u001b[38;5;124;43mMuskan\u001b[39;49m\u001b[38;5;124;43m\"\u001b[39;49m\u001b[43m,\u001b[49m\u001b[43m \u001b[49m\u001b[38;5;241;43m2000\u001b[39;49m\u001b[43m)\u001b[49m\n\u001b[0;32m     15\u001b[0m \u001b[38;5;28mprint\u001b[39m(\u001b[38;5;124mf\u001b[39m\u001b[38;5;124m\"\u001b[39m\u001b[38;5;124mName of the Account Holder is \u001b[39m\u001b[38;5;132;01m{\u001b[39;00mA\u001b[38;5;241m.\u001b[39mtitle\u001b[38;5;132;01m}\u001b[39;00m\u001b[38;5;124m\"\u001b[39m)\n\u001b[0;32m     16\u001b[0m \u001b[38;5;28mprint\u001b[39m(\u001b[38;5;124mf\u001b[39m\u001b[38;5;124m\"\u001b[39m\u001b[38;5;124mAvailable Balance is \u001b[39m\u001b[38;5;132;01m{\u001b[39;00mA\u001b[38;5;241m.\u001b[39mbalance\u001b[38;5;132;01m}\u001b[39;00m\u001b[38;5;124m Rs\u001b[39m\u001b[38;5;124m\"\u001b[39m)\n",
      "\u001b[1;31mTypeError\u001b[0m: Account() takes no arguments"
     ]
    }
   ],
   "source": [
    "class Account:\n",
    "    def _init_(self,title=None,balance=0):\n",
    "        self.title=title\n",
    "        self.balance=balance\n",
    "    \n",
    "class SavingsAccount(Account):\n",
    "    def _init_(self, title=None, balance=0,InterestRate=0):\n",
    "        super()._init_(title, balance)\n",
    "        self.title=title\n",
    "        self.balance=balance\n",
    "        self.InterestRate=InterestRate\n",
    "\n",
    "print(\"Account Details :- \")\n",
    "A=Account(\"Muskan\", 2000)\n",
    "print(f\"Name of the Account Holder is {A.title}\")\n",
    "print(f\"Available Balance is {A.balance} Rs\")\n",
    "print(f\"Here, {A.title} is the title, {A.balance} is the balance . \")\n",
    "print(\"**************************************\")\n",
    "print(\"Savings Account Details\")\n",
    "SA=SavingsAccount(\"Muskan\", 2000, 2)\n",
    "print(f\"Name of the Account Holder is {SA.title}\")\n",
    "print(f\"Available Balance is {SA.balance} Rs\")\n",
    "print(f\"Name of the Account Holder is {A.title}\")\n",
    "print(f\"Interest Rate on Current Balance in percent is {SA.InterestRate}\")\n",
    "print(\"*************************************\")\n",
    "print(f\"Here, {SA.title} is the title, {SA.balance} is the balance and TheinterestRate is {SA.InterestRate}\")"
   ]
  },
  {
   "cell_type": "code",
   "execution_count": 6,
   "id": "253229bc",
   "metadata": {},
   "outputs": [
    {
     "ename": "TypeError",
     "evalue": "SavingsAccount() takes no arguments",
     "output_type": "error",
     "traceback": [
      "\u001b[1;31m---------------------------------------------------------------------------\u001b[0m",
      "\u001b[1;31mTypeError\u001b[0m                                 Traceback (most recent call last)",
      "Input \u001b[1;32mIn [6]\u001b[0m, in \u001b[0;36m<cell line: 22>\u001b[1;34m()\u001b[0m\n\u001b[0;32m     20\u001b[0m     \u001b[38;5;28;01mdef\u001b[39;00m \u001b[38;5;21minterestAmount\u001b[39m(\u001b[38;5;28mself\u001b[39m):\n\u001b[0;32m     21\u001b[0m         \u001b[38;5;28;01mreturn\u001b[39;00m (\u001b[38;5;28mself\u001b[39m\u001b[38;5;241m.\u001b[39mbalance\u001b[38;5;241m*\u001b[39m\u001b[38;5;28mself\u001b[39m\u001b[38;5;241m.\u001b[39minterestRate)\u001b[38;5;241m/\u001b[39m\u001b[38;5;241m100\u001b[39m\n\u001b[1;32m---> 22\u001b[0m Ad\u001b[38;5;241m=\u001b[39m\u001b[43mSavingsAccount\u001b[49m\u001b[43m(\u001b[49m\u001b[38;5;124;43m\"\u001b[39;49m\u001b[38;5;124;43mAsish\u001b[39;49m\u001b[38;5;124;43m\"\u001b[39;49m\u001b[43m,\u001b[49m\u001b[38;5;241;43m2000\u001b[39;49m\u001b[43m)\u001b[49m\n\u001b[0;32m     23\u001b[0m Ad\u001b[38;5;241m.\u001b[39mdeposit(\u001b[38;5;241m500\u001b[39m)\n\u001b[0;32m     24\u001b[0m Ad\u001b[38;5;241m.\u001b[39mgetBalance()\n",
      "\u001b[1;31mTypeError\u001b[0m: SavingsAccount() takes no arguments"
     ]
    }
   ],
   "source": [
    "class Account:\n",
    "    def _init_(self, title, balance):\n",
    "        self.title = title\n",
    "        self.balance = balance\n",
    "    \n",
    "    def withdrawal(self, amount):\n",
    "        self.balance=self.balance - amount\n",
    "            \n",
    "    def deposit(self, amount):\n",
    "       self.balance=self.balance + amount \n",
    "       \n",
    "    def getBalance(self):\n",
    "        return self.balance\n",
    "\n",
    "class SavingsAccount(Account):\n",
    "    def _init_(self, title=None, balance=0, interestRate=0):\n",
    "            super()._init_(title, balance)\n",
    "            self.interestRate = interestRate\n",
    "    \n",
    "    def interestAmount(self):\n",
    "        return (self.balance*self.interestRate)/100\n",
    "Ad=SavingsAccount(\"Asish\",2000)\n",
    "Ad.deposit(500)\n",
    "Ad.getBalance()\n",
    "print(Ad.getBalance())\n",
    "\n",
    "Aw=SavingsAccount(\"Asish\",2000)\n",
    "Aw.withdrawal(500)\n",
    "Aw.getBalance()\n",
    "print(Aw.getBalance())\n",
    "\n",
    "Si=SavingsAccount(\"Asish\",2000,5)\n",
    "print(Si.interestAmount())\n",
    "\n",
    "class Account:\n",
    "    def _init_(self, title, balance):\n",
    "        self.title = title\n",
    "        self.balance = balance\n",
    "    \n",
    "    def withdrawal(self, amount):\n",
    "        self.balance=self.balance - amount        \n",
    "    \n",
    "    def deposit(self, amount):\n",
    "       self.balance=self.balance + amount \n",
    "       \n",
    "    def getBalance(self):\n",
    "        return self.balance\n",
    "\n",
    "class SavingsAccount(Account):\n",
    "    def _init_(self, title=None, balance=0, interestRate=0):\n",
    "            super()._init_(title, balance)\n",
    "            self.interestRate = interestRate\n",
    "    \n",
    "    def interestAmount(self):\n",
    "        return (self.balance*self.interestRate)/100\n",
    "Ad=Account(\"Asish\",2000)\n",
    "Ad.deposit(500)\n",
    "Ad.getBalance()\n",
    "print(Ad.getBalance())\n",
    "\n",
    "Aw=Account(\"Asish\",2000)\n",
    "Aw.withdrawal(500)\n",
    "Aw.getBalance()\n",
    "print(Aw.getBalance())\n",
    "\n",
    "demo1=SavingsAccount(\"Asish\",2000,5)\n",
    "print(Si.interestAmount())                  "
   ]
  },
  {
   "cell_type": "code",
   "execution_count": null,
   "id": "091c11c6",
   "metadata": {},
   "outputs": [],
   "source": []
  }
 ],
 "metadata": {
  "kernelspec": {
   "display_name": "Python 3 (ipykernel)",
   "language": "python",
   "name": "python3"
  },
  "language_info": {
   "codemirror_mode": {
    "name": "ipython",
    "version": 3
   },
   "file_extension": ".py",
   "mimetype": "text/x-python",
   "name": "python",
   "nbconvert_exporter": "python",
   "pygments_lexer": "ipython3",
   "version": "3.9.12"
  }
 },
 "nbformat": 4,
 "nbformat_minor": 5
}
